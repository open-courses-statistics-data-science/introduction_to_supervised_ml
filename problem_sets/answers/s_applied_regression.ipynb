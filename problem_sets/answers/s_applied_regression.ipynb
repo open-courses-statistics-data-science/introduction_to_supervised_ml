{
 "cells": [
  {
   "cell_type": "markdown",
   "metadata": {},
   "source": [
    "# House price prediction"
   ]
  },
  {
   "cell_type": "markdown",
   "metadata": {},
   "source": [
    "In this exercise, we are going to apply a regression modelling technique to house price prediction using a subset of the [California house price dataset](https://www.kaggle.com/camnugent/california-housing-prices). Our dataset contains 200 observations for housing blocks in California obtained from the 1990 census. The dataset contains columns:\n",
    "\n",
    "1. `longitude`: A measure of how far west a house is; a higher value is farther west\n",
    "\n",
    "2. `latitude`: A measure of how far north a house is; a higher value is farther north\n",
    "\n",
    "3. `housing_median_age`: Median age of a house within a block; a lower number is a newer building\n",
    "\n",
    "4. `total_rooms`: Total number of rooms within a block\n",
    "\n",
    "5. `total_bedrooms`: Total number of bedrooms within a block\n",
    "\n",
    "6. `population`: Total number of people residing within a block\n",
    "\n",
    "7. `households`: Total number of households, a group of people residing within a home unit, for a block\n",
    "\n",
    "8. `median_income`: Median income for households within a block of houses (measured in tens of thousands of US Dollars)\n",
    "\n",
    "9. `median_house_value`: Median house value for households within a block (measured in US Dollars)\n",
    "\n",
    "10. `ocean_proximity`: Location of the house w.r.t ocean/sea\n",
    "\n",
    "In this example, we are going to create a regression model to predict `median_house_value` using only `median_income`."
   ]
  },
  {
   "cell_type": "markdown",
   "metadata": {},
   "source": [
    "Load the file `housing_short.csv` and examine the first few rows."
   ]
  },
  {
   "cell_type": "code",
   "execution_count": 1,
   "metadata": {},
   "outputs": [
    {
     "data": {
      "text/html": [
       "<div>\n",
       "<style scoped>\n",
       "    .dataframe tbody tr th:only-of-type {\n",
       "        vertical-align: middle;\n",
       "    }\n",
       "\n",
       "    .dataframe tbody tr th {\n",
       "        vertical-align: top;\n",
       "    }\n",
       "\n",
       "    .dataframe thead th {\n",
       "        text-align: right;\n",
       "    }\n",
       "</style>\n",
       "<table border=\"1\" class=\"dataframe\">\n",
       "  <thead>\n",
       "    <tr style=\"text-align: right;\">\n",
       "      <th></th>\n",
       "      <th>longitude</th>\n",
       "      <th>latitude</th>\n",
       "      <th>housing_median_age</th>\n",
       "      <th>total_rooms</th>\n",
       "      <th>total_bedrooms</th>\n",
       "      <th>population</th>\n",
       "      <th>households</th>\n",
       "      <th>median_income</th>\n",
       "      <th>median_house_value</th>\n",
       "      <th>ocean_proximity</th>\n",
       "    </tr>\n",
       "  </thead>\n",
       "  <tbody>\n",
       "    <tr>\n",
       "      <th>0</th>\n",
       "      <td>-122.23</td>\n",
       "      <td>37.88</td>\n",
       "      <td>41</td>\n",
       "      <td>880</td>\n",
       "      <td>129</td>\n",
       "      <td>322</td>\n",
       "      <td>126</td>\n",
       "      <td>8.3252</td>\n",
       "      <td>452600</td>\n",
       "      <td>NEAR BAY</td>\n",
       "    </tr>\n",
       "    <tr>\n",
       "      <th>1</th>\n",
       "      <td>-122.22</td>\n",
       "      <td>37.86</td>\n",
       "      <td>21</td>\n",
       "      <td>7099</td>\n",
       "      <td>1106</td>\n",
       "      <td>2401</td>\n",
       "      <td>1138</td>\n",
       "      <td>8.3014</td>\n",
       "      <td>358500</td>\n",
       "      <td>NEAR BAY</td>\n",
       "    </tr>\n",
       "    <tr>\n",
       "      <th>2</th>\n",
       "      <td>-122.24</td>\n",
       "      <td>37.85</td>\n",
       "      <td>52</td>\n",
       "      <td>1467</td>\n",
       "      <td>190</td>\n",
       "      <td>496</td>\n",
       "      <td>177</td>\n",
       "      <td>7.2574</td>\n",
       "      <td>352100</td>\n",
       "      <td>NEAR BAY</td>\n",
       "    </tr>\n",
       "    <tr>\n",
       "      <th>3</th>\n",
       "      <td>-122.25</td>\n",
       "      <td>37.85</td>\n",
       "      <td>52</td>\n",
       "      <td>1274</td>\n",
       "      <td>235</td>\n",
       "      <td>558</td>\n",
       "      <td>219</td>\n",
       "      <td>5.6431</td>\n",
       "      <td>341300</td>\n",
       "      <td>NEAR BAY</td>\n",
       "    </tr>\n",
       "    <tr>\n",
       "      <th>4</th>\n",
       "      <td>-122.25</td>\n",
       "      <td>37.85</td>\n",
       "      <td>52</td>\n",
       "      <td>1627</td>\n",
       "      <td>280</td>\n",
       "      <td>565</td>\n",
       "      <td>259</td>\n",
       "      <td>3.8462</td>\n",
       "      <td>342200</td>\n",
       "      <td>NEAR BAY</td>\n",
       "    </tr>\n",
       "    <tr>\n",
       "      <th>5</th>\n",
       "      <td>-122.25</td>\n",
       "      <td>37.85</td>\n",
       "      <td>52</td>\n",
       "      <td>919</td>\n",
       "      <td>213</td>\n",
       "      <td>413</td>\n",
       "      <td>193</td>\n",
       "      <td>4.0368</td>\n",
       "      <td>269700</td>\n",
       "      <td>NEAR BAY</td>\n",
       "    </tr>\n",
       "    <tr>\n",
       "      <th>6</th>\n",
       "      <td>-122.25</td>\n",
       "      <td>37.84</td>\n",
       "      <td>52</td>\n",
       "      <td>2535</td>\n",
       "      <td>489</td>\n",
       "      <td>1094</td>\n",
       "      <td>514</td>\n",
       "      <td>3.6591</td>\n",
       "      <td>299200</td>\n",
       "      <td>NEAR BAY</td>\n",
       "    </tr>\n",
       "    <tr>\n",
       "      <th>7</th>\n",
       "      <td>-122.25</td>\n",
       "      <td>37.84</td>\n",
       "      <td>52</td>\n",
       "      <td>3104</td>\n",
       "      <td>687</td>\n",
       "      <td>1157</td>\n",
       "      <td>647</td>\n",
       "      <td>3.1200</td>\n",
       "      <td>241400</td>\n",
       "      <td>NEAR BAY</td>\n",
       "    </tr>\n",
       "    <tr>\n",
       "      <th>8</th>\n",
       "      <td>-122.26</td>\n",
       "      <td>37.84</td>\n",
       "      <td>42</td>\n",
       "      <td>2555</td>\n",
       "      <td>665</td>\n",
       "      <td>1206</td>\n",
       "      <td>595</td>\n",
       "      <td>2.0804</td>\n",
       "      <td>226700</td>\n",
       "      <td>NEAR BAY</td>\n",
       "    </tr>\n",
       "    <tr>\n",
       "      <th>9</th>\n",
       "      <td>-122.25</td>\n",
       "      <td>37.84</td>\n",
       "      <td>52</td>\n",
       "      <td>3549</td>\n",
       "      <td>707</td>\n",
       "      <td>1551</td>\n",
       "      <td>714</td>\n",
       "      <td>3.6912</td>\n",
       "      <td>261100</td>\n",
       "      <td>NEAR BAY</td>\n",
       "    </tr>\n",
       "  </tbody>\n",
       "</table>\n",
       "</div>"
      ],
      "text/plain": [
       "   longitude  latitude  housing_median_age  total_rooms  total_bedrooms  \\\n",
       "0    -122.23     37.88                  41          880             129   \n",
       "1    -122.22     37.86                  21         7099            1106   \n",
       "2    -122.24     37.85                  52         1467             190   \n",
       "3    -122.25     37.85                  52         1274             235   \n",
       "4    -122.25     37.85                  52         1627             280   \n",
       "5    -122.25     37.85                  52          919             213   \n",
       "6    -122.25     37.84                  52         2535             489   \n",
       "7    -122.25     37.84                  52         3104             687   \n",
       "8    -122.26     37.84                  42         2555             665   \n",
       "9    -122.25     37.84                  52         3549             707   \n",
       "\n",
       "   population  households  median_income  median_house_value ocean_proximity  \n",
       "0         322         126         8.3252              452600        NEAR BAY  \n",
       "1        2401        1138         8.3014              358500        NEAR BAY  \n",
       "2         496         177         7.2574              352100        NEAR BAY  \n",
       "3         558         219         5.6431              341300        NEAR BAY  \n",
       "4         565         259         3.8462              342200        NEAR BAY  \n",
       "5         413         193         4.0368              269700        NEAR BAY  \n",
       "6        1094         514         3.6591              299200        NEAR BAY  \n",
       "7        1157         647         3.1200              241400        NEAR BAY  \n",
       "8        1206         595         2.0804              226700        NEAR BAY  \n",
       "9        1551         714         3.6912              261100        NEAR BAY  "
      ]
     },
     "execution_count": 1,
     "metadata": {},
     "output_type": "execute_result"
    }
   ],
   "source": [
    "import pandas as pd\n",
    "import numpy as np\n",
    "import matplotlib.pyplot as plt\n",
    "from plotnine import *\n",
    "\n",
    "df = pd.read_csv(\"data/housing_short.csv\")\n",
    "df.iloc[:10 :]"
   ]
  },
  {
   "cell_type": "markdown",
   "metadata": {},
   "source": [
    "Plot median income vs median house value. What does this plot indicate about the relationship between these two variables?"
   ]
  },
  {
   "cell_type": "code",
   "execution_count": 2,
   "metadata": {},
   "outputs": [
    {
     "data": {
      "image/png": "[encoded data removed]",
      "text/plain": [
       "<Figure size 432x288 with 1 Axes>"
      ]
     },
     "metadata": {
      "needs_background": "light"
     },
     "output_type": "display_data"
    }
   ],
   "source": [
    "plt.scatter(df[\"median_income\"], df[\"median_house_value\"])\n",
    "plt.show()"
   ]
  },
  {
   "cell_type": "markdown",
   "metadata": {},
   "source": [
    "Split the data into a training set comprising the first 140 rows of the dataset, a validation set comprising rows 141-180 and a testing set comprising rows 180-200."
   ]
  },
  {
   "cell_type": "code",
   "execution_count": 3,
   "metadata": {
    "collapsed": true
   },
   "outputs": [],
   "source": [
    "training = df.iloc[:140, :]\n",
    "validation = df.iloc[140:180, :]\n",
    "testing = df.iloc[180:, :]"
   ]
  },
  {
   "cell_type": "markdown",
   "metadata": {},
   "source": [
    "Create a linear regression model to predict median house value from median income using the training set. We provide code for both R and Python."
   ]
  },
  {
   "cell_type": "code",
   "execution_count": 4,
   "metadata": {},
   "outputs": [
    {
     "name": "stdout",
     "output_type": "stream",
     "text": [
      "[[38948.54628248]]\n",
      "[76003.84375679]\n"
     ]
    }
   ],
   "source": [
    "from sklearn import linear_model\n",
    "reg = linear_model.LinearRegression()\n",
    "# assuming that training set is a pandas dataframe\n",
    "X = training[\"median_income\"]\n",
    "y = training[\"median_house_value\"]\n",
    "X = X.iloc[:, ].values.reshape(-1, 1)\n",
    "y = y.iloc[:, ].values.reshape(-1, 1)\n",
    "reg.fit(X, y)\n",
    "\n",
    "# print coefficients of model\n",
    "print(reg.coef_)\n",
    "print(reg.intercept_)"
   ]
  },
  {
   "cell_type": "markdown",
   "metadata": {},
   "source": [
    "What does your model predict is the average increase in median house value associated with a \\$10,000 increase in median income?"
   ]
  },
  {
   "cell_type": "markdown",
   "metadata": {},
   "source": [
    "For every \\$10,000 increase, there is an associated increase in house value of \\$38,948."
   ]
  },
  {
   "cell_type": "markdown",
   "metadata": {},
   "source": [
    "Overlay the linear regression model on top of the training data. What does this suggest about the appropriateness of the model?"
   ]
  },
  {
   "cell_type": "code",
   "execution_count": 5,
   "metadata": {},
   "outputs": [
    {
     "data": {
      "image/png": "[encoded data removed]",
      "text/plain": [
       "<Figure size 432x288 with 1 Axes>"
      ]
     },
     "metadata": {
      "needs_background": "light"
     },
     "output_type": "display_data"
    }
   ],
   "source": [
    "income = np.linspace(0, 12)\n",
    "income = income.reshape(-1, 1)\n",
    "price = reg.predict(income)\n",
    "\n",
    "plt.scatter(training[\"median_income\"], training[\"median_house_value\"])\n",
    "plt.plot(income, price, \"orange\")\n",
    "plt.show()"
   ]
  },
  {
   "cell_type": "markdown",
   "metadata": {},
   "source": [
    "The fit is ok but looks like a model incorporating a non-linear association of income on house price would be more appropriate."
   ]
  },
  {
   "cell_type": "markdown",
   "metadata": {},
   "source": [
    "Now fit a linear regression model to the training set of the form:\n",
    "\n",
    "\\begin{equation}\n",
    "P_i = a + b_1 I_i + b_2 I_i^2\n",
    "\\end{equation}\n",
    "\n",
    "where $P_i$ is median house price in block $i$ and $I_i$ is median house income of the same block."
   ]
  },
  {
   "cell_type": "code",
   "execution_count": 6,
   "metadata": {},
   "outputs": [
    {
     "name": "stdout",
     "output_type": "stream",
     "text": [
      "[[63195.92025012 -2682.77770672]]\n",
      "[39378.27235189]\n"
     ]
    },
    {
     "name": "stderr",
     "output_type": "stream",
     "text": [
      "/usr/local/lib/python3.7/site-packages/ipykernel_launcher.py:2: SettingWithCopyWarning: \n",
      "A value is trying to be set on a copy of a slice from a DataFrame.\n",
      "Try using .loc[row_indexer,col_indexer] = value instead\n",
      "\n",
      "See the caveats in the documentation: https://pandas.pydata.org/pandas-docs/stable/user_guide/indexing.html#returning-a-view-versus-a-copy\n"
     ]
    }
   ],
   "source": [
    "reg2 = linear_model.LinearRegression()\n",
    "training[\"median_income_2\"] = training[\"median_income\"]**2\n",
    "y = training[\"median_house_value\"]\n",
    "X = training[[\"median_income\", \"median_income_2\"]]\n",
    "y = y.iloc[:, ].values.reshape(-1, 1)\n",
    "reg2.fit(X, y)\n",
    "\n",
    "# print coefficients of model\n",
    "print(reg2.coef_)\n",
    "print(reg2.intercept_)"
   ]
  },
  {
   "cell_type": "markdown",
   "metadata": {},
   "source": [
    "Again plot the model fit for this model versus data. How does the fit compare with the linear model?"
   ]
  },
  {
   "cell_type": "code",
   "execution_count": 7,
   "metadata": {},
   "outputs": [
    {
     "data": {
      "image/png": "[encoded data removed]",
      "text/plain": [
       "<Figure size 432x288 with 1 Axes>"
      ]
     },
     "metadata": {
      "needs_background": "light"
     },
     "output_type": "display_data"
    }
   ],
   "source": [
    "# generate predicted price for quadratic model\n",
    "income_ranges = pd.DataFrame({'median_income':income[:,0],\n",
    "                              'median_income_2':income[:,0]**2})\n",
    "price2 = reg2.predict(income_ranges)\n",
    "\n",
    "# plot over top of data\n",
    "plt.scatter(training[\"median_income\"], training[\"median_house_value\"])\n",
    "plt.plot(income, price, \"orange\")\n",
    "plt.plot(income, price2, \"blue\")\n",
    "plt.show()"
   ]
  },
  {
   "cell_type": "markdown",
   "metadata": {},
   "source": [
    "The fit of the quadratic model appears better to the training data."
   ]
  },
  {
   "cell_type": "markdown",
   "metadata": {},
   "source": [
    "Now fit a model using up to 5th order polynomial terms."
   ]
  },
  {
   "cell_type": "code",
   "execution_count": 8,
   "metadata": {},
   "outputs": [
    {
     "name": "stdout",
     "output_type": "stream",
     "text": [
      "[[-2.38761195e+05  1.43183836e+05 -2.93918952e+04  2.60822571e+03\n",
      "  -8.42148207e+01]]\n",
      "[235918.90032356]\n"
     ]
    },
    {
     "name": "stderr",
     "output_type": "stream",
     "text": [
      "/usr/local/lib/python3.7/site-packages/ipykernel_launcher.py:2: SettingWithCopyWarning: \n",
      "A value is trying to be set on a copy of a slice from a DataFrame.\n",
      "Try using .loc[row_indexer,col_indexer] = value instead\n",
      "\n",
      "See the caveats in the documentation: https://pandas.pydata.org/pandas-docs/stable/user_guide/indexing.html#returning-a-view-versus-a-copy\n",
      "/usr/local/lib/python3.7/site-packages/ipykernel_launcher.py:3: SettingWithCopyWarning: \n",
      "A value is trying to be set on a copy of a slice from a DataFrame.\n",
      "Try using .loc[row_indexer,col_indexer] = value instead\n",
      "\n",
      "See the caveats in the documentation: https://pandas.pydata.org/pandas-docs/stable/user_guide/indexing.html#returning-a-view-versus-a-copy\n",
      "/usr/local/lib/python3.7/site-packages/ipykernel_launcher.py:4: SettingWithCopyWarning: \n",
      "A value is trying to be set on a copy of a slice from a DataFrame.\n",
      "Try using .loc[row_indexer,col_indexer] = value instead\n",
      "\n",
      "See the caveats in the documentation: https://pandas.pydata.org/pandas-docs/stable/user_guide/indexing.html#returning-a-view-versus-a-copy\n"
     ]
    }
   ],
   "source": [
    "# Generate polynomial terms\n",
    "training[\"median_income_3\"] = training[\"median_income\"]**3\n",
    "training[\"median_income_4\"] = training[\"median_income\"]**4\n",
    "training[\"median_income_5\"] = training[\"median_income\"]**5\n",
    "\n",
    "reg5 = linear_model.LinearRegression()\n",
    "y = training[\"median_house_value\"]\n",
    "X = training[[\"median_income\", \"median_income_2\", \"median_income_3\", \"median_income_4\", \"median_income_5\"]]\n",
    "y = y.iloc[:, ].values.reshape(-1, 1)\n",
    "reg5.fit(X, y)\n",
    "\n",
    "# print coefficients of model\n",
    "print(reg5.coef_)\n",
    "print(reg5.intercept_)"
   ]
  },
  {
   "cell_type": "markdown",
   "metadata": {},
   "source": [
    "Overlay all three models on top of the training data."
   ]
  },
  {
   "cell_type": "code",
   "execution_count": 9,
   "metadata": {},
   "outputs": [
    {
     "data": {
      "image/png": "[encoded data removed]",
      "text/plain": [
       "<Figure size 432x288 with 1 Axes>"
      ]
     },
     "metadata": {
      "needs_background": "light"
     },
     "output_type": "display_data"
    }
   ],
   "source": [
    "# generate predicted price for quadratic model\n",
    "income_ranges = pd.DataFrame({'median_income':income[:,0],\n",
    "                              'median_income_sq':income[:,0]**2,\n",
    "                              'median_income_3':income[:,0]**3,\n",
    "                              'median_income_4':income[:,0]**4,\n",
    "                              'median_income_5':income[:,0]**5})\n",
    "price5 = reg5.predict(income_ranges)\n",
    "\n",
    "# plot over top of data\n",
    "plt.scatter(training[\"median_income\"], training[\"median_house_value\"])\n",
    "plt.plot(income, price, \"orange\")\n",
    "plt.plot(income, price2, \"blue\")\n",
    "plt.plot(income, price5, \"grey\")\n",
    "plt.show()"
   ]
  },
  {
   "cell_type": "markdown",
   "metadata": {},
   "source": [
    "Now we are going to prepare the fit of all models on the validation set. To do so, first use each of your fitted models to predict house prices in this set."
   ]
  },
  {
   "cell_type": "code",
   "execution_count": 10,
   "metadata": {},
   "outputs": [
    {
     "name": "stderr",
     "output_type": "stream",
     "text": [
      "/usr/local/lib/python3.7/site-packages/ipykernel_launcher.py:2: SettingWithCopyWarning: \n",
      "A value is trying to be set on a copy of a slice from a DataFrame.\n",
      "Try using .loc[row_indexer,col_indexer] = value instead\n",
      "\n",
      "See the caveats in the documentation: https://pandas.pydata.org/pandas-docs/stable/user_guide/indexing.html#returning-a-view-versus-a-copy\n",
      "/usr/local/lib/python3.7/site-packages/ipykernel_launcher.py:3: SettingWithCopyWarning: \n",
      "A value is trying to be set on a copy of a slice from a DataFrame.\n",
      "Try using .loc[row_indexer,col_indexer] = value instead\n",
      "\n",
      "See the caveats in the documentation: https://pandas.pydata.org/pandas-docs/stable/user_guide/indexing.html#returning-a-view-versus-a-copy\n",
      "/usr/local/lib/python3.7/site-packages/ipykernel_launcher.py:4: SettingWithCopyWarning: \n",
      "A value is trying to be set on a copy of a slice from a DataFrame.\n",
      "Try using .loc[row_indexer,col_indexer] = value instead\n",
      "\n",
      "See the caveats in the documentation: https://pandas.pydata.org/pandas-docs/stable/user_guide/indexing.html#returning-a-view-versus-a-copy\n",
      "/usr/local/lib/python3.7/site-packages/ipykernel_launcher.py:5: SettingWithCopyWarning: \n",
      "A value is trying to be set on a copy of a slice from a DataFrame.\n",
      "Try using .loc[row_indexer,col_indexer] = value instead\n",
      "\n",
      "See the caveats in the documentation: https://pandas.pydata.org/pandas-docs/stable/user_guide/indexing.html#returning-a-view-versus-a-copy\n"
     ]
    }
   ],
   "source": [
    "# create polynomial terms in validation set\n",
    "validation[\"median_income_2\"] = validation[\"median_income\"]**2\n",
    "validation[\"median_income_3\"] = validation[\"median_income\"]**3\n",
    "validation[\"median_income_4\"] = validation[\"median_income\"]**4\n",
    "validation[\"median_income_5\"] = validation[\"median_income\"]**5\n",
    "\n",
    "# make predictions on each validation set\n",
    "price = reg.predict(validation[[\"median_income\"]])\n",
    "price2 = reg2.predict(validation[[\"median_income\", \"median_income_2\"]])\n",
    "price5 = reg5.predict(validation[[\"median_income\", \"median_income_2\", \"median_income_3\",\n",
    "                                  \"median_income_4\", \"median_income_5\"]])"
   ]
  },
  {
   "cell_type": "markdown",
   "metadata": {},
   "source": [
    "Calculate the errors in prediction for each of the three models. Draw histograms of these for each of the models."
   ]
  },
  {
   "cell_type": "code",
   "execution_count": 11,
   "metadata": {},
   "outputs": [
    {
     "data": {
      "image/png": "[encoded data removed]",
      "text/plain": [
       "<Figure size 432x288 with 1 Axes>"
      ]
     },
     "metadata": {
      "needs_background": "light"
     },
     "output_type": "display_data"
    }
   ],
   "source": [
    "# calculate errors\n",
    "error = validation[\"median_house_value\"] - price[:, 0]\n",
    "error2 = validation[\"median_house_value\"] - price2[:, 0]\n",
    "error5 = validation[\"median_house_value\"] - price5[:, 0]\n",
    "\n",
    "# plot histograms\n",
    "plt.hist(error, label=\"linear\", alpha=0.8)\n",
    "plt.hist(error2, label=\"quadratic\", alpha=0.8)\n",
    "plt.hist(error5, label=\"5th power\", alpha=0.8)\n",
    "plt.legend()\n",
    "plt.show()"
   ]
  },
  {
   "cell_type": "markdown",
   "metadata": {},
   "source": [
    "Calculate the root mean squared error for each of the models:\n",
    "\n",
    "\\begin{equation}\n",
    "\\text{RMSE} = \\sqrt{1/N\\sum_{i=1}^N \\text{error}_i^2}\n",
    "\\end{equation}\n",
    "\n",
    "Which model has the best performance and why?"
   ]
  },
  {
   "cell_type": "code",
   "execution_count": 12,
   "metadata": {},
   "outputs": [
    {
     "data": {
      "text/plain": [
       "-59107.78593701968"
      ]
     },
     "execution_count": 12,
     "metadata": {},
     "output_type": "execute_result"
    }
   ],
   "source": [
    "np.sum(error2)"
   ]
  },
  {
   "cell_type": "code",
   "execution_count": 13,
   "metadata": {},
   "outputs": [
    {
     "name": "stdout",
     "output_type": "stream",
     "text": [
      "linear model RMSE:  38517.816941766825\n",
      "quadratic model RMSE:  37782.4194698285\n",
      "5th power model RMSE:  38813.2398183265\n"
     ]
    }
   ],
   "source": [
    "def rmse(errors):\n",
    "    sse = errors**2\n",
    "    return np.sqrt(np.mean(sse))\n",
    "\n",
    "print(\"linear model RMSE: \", rmse(error))\n",
    "print(\"quadratic model RMSE: \", rmse(error2))\n",
    "print(\"5th power model RMSE: \", rmse(error5))"
   ]
  },
  {
   "cell_type": "markdown",
   "metadata": {},
   "source": [
    "The quadratic model! The linear model underfitted the data; the 5th power one overfitted it."
   ]
  },
  {
   "cell_type": "markdown",
   "metadata": {},
   "source": [
    "Calculate the RMSE of prediction using the quadratic model on the testing set."
   ]
  },
  {
   "cell_type": "code",
   "execution_count": 14,
   "metadata": {},
   "outputs": [
    {
     "name": "stdout",
     "output_type": "stream",
     "text": [
      "quadratic model RMSE:  74903.53093802913\n"
     ]
    },
    {
     "name": "stderr",
     "output_type": "stream",
     "text": [
      "/usr/local/lib/python3.7/site-packages/ipykernel_launcher.py:2: SettingWithCopyWarning: \n",
      "A value is trying to be set on a copy of a slice from a DataFrame.\n",
      "Try using .loc[row_indexer,col_indexer] = value instead\n",
      "\n",
      "See the caveats in the documentation: https://pandas.pydata.org/pandas-docs/stable/user_guide/indexing.html#returning-a-view-versus-a-copy\n"
     ]
    }
   ],
   "source": [
    "# create polynomial terms in test set\n",
    "testing[\"median_income_2\"] = testing[\"median_income\"]**2\n",
    "\n",
    "# make predictions on test set\n",
    "price2 = reg2.predict(testing[[\"median_income\", \"median_income_2\"]])\n",
    "\n",
    "# calculate errors\n",
    "error2 = testing[\"median_house_value\"] - price2[:, 0]\n",
    "\n",
    "print(\"quadratic model RMSE: \", rmse(error2))"
   ]
  },
  {
   "cell_type": "markdown",
   "metadata": {},
   "source": [
    "Why is the performance so much worse on the testing set?"
   ]
  },
  {
   "cell_type": "markdown",
   "metadata": {},
   "source": [
    "Plot house price versus income for each of the three datasets"
   ]
  },
  {
   "cell_type": "code",
   "execution_count": 15,
   "metadata": {},
   "outputs": [
    {
     "data": {
      "image/png": "[encoded data removed]",
      "text/plain": [
       "<Figure size 432x288 with 1 Axes>"
      ]
     },
     "metadata": {
      "needs_background": "light"
     },
     "output_type": "display_data"
    }
   ],
   "source": [
    "plt.scatter(training[\"median_income\"], training[\"median_house_value\"], label=\"linear model\")\n",
    "plt.scatter(validation[\"median_income\"], validation[\"median_house_value\"], label=\"quadratic\")\n",
    "plt.scatter(testing[\"median_income\"], testing[\"median_house_value\"], label=\"5th order\")\n",
    "plt.legend()\n",
    "plt.show()"
   ]
  },
  {
   "cell_type": "markdown",
   "metadata": {},
   "source": [
    "Because the testing set doesn't look much like the training and validation sets! Really important that all three sets look similar if we are to build generalisable models."
   ]
  }
 ],
 "metadata": {
  "kernelspec": {
   "display_name": "Python 3",
   "language": "python",
   "name": "python3"
  },
  "language_info": {
   "codemirror_mode": {
    "name": "ipython",
    "version": 3
   },
   "file_extension": ".py",
   "mimetype": "text/x-python",
   "name": "python",
   "nbconvert_exporter": "python",
   "pygments_lexer": "ipython3",
   "version": "3.7.7"
  }
 },
 "nbformat": 4,
 "nbformat_minor": 2
}
